{
 "cells": [
  {
   "cell_type": "markdown",
   "metadata": {},
   "source": [
    "# 过拟合"
   ]
  },
  {
   "cell_type": "markdown",
   "metadata": {},
   "source": [
    "### 如何判断过拟合"
   ]
  },
  {
   "cell_type": "markdown",
   "metadata": {},
   "source": [
    "过拟合通常的表现为对训练集具有较高的拟合度，而泛化误差较大。如果对于一个模型，其对训练集的正确率较高，而对测试集准确率不高时，基本就可以确定为是过拟合"
   ]
  },
  {
   "cell_type": "markdown",
   "metadata": {},
   "source": [
    "### 消除过拟合的方法"
   ]
  },
  {
   "cell_type": "markdown",
   "metadata": {},
   "source": [
    "#### 1.尽量减少特征数量"
   ]
  },
  {
   "cell_type": "markdown",
   "metadata": {},
   "source": [
    "过拟合是对训练数据过度拟合而形成的，尽量减少特征数量，降低模型复杂度，可以提高模型的泛化能力。但是如果特征数量较少，又会造成欠拟合的情况。"
   ]
  },
  {
   "cell_type": "markdown",
   "metadata": {},
   "source": [
    "#### 2.增加训练数据"
   ]
  },
  {
   "cell_type": "markdown",
   "metadata": {},
   "source": [
    "通过增加训练数据，使模型能够应对更多的一般情况，提高模型的泛化能力。"
   ]
  },
  {
   "cell_type": "markdown",
   "metadata": {},
   "source": [
    "#### 3.正则化"
   ]
  },
  {
   "cell_type": "markdown",
   "metadata": {},
   "source": [
    "###### ① L1 正则化"
   ]
  },
  {
   "cell_type": "markdown",
   "metadata": {},
   "source": [
    "在原始代价函数加上 L1 惩罚项，即 $$\\frac{\\lambda}{m}\\sum_{i=1}^m|\\theta_i|$$组成新的代价函数$J^*$"
   ]
  },
  {
   "cell_type": "markdown",
   "metadata": {},
   "source": [
    "则对于$\\theta_0$，求偏导后不变，因为惩罚项中不含有$\\theta_0$"
   ]
  },
  {
   "cell_type": "markdown",
   "metadata": {},
   "source": [
    "对于系数 $\\theta_1--\\theta_m$,$$\\frac{\\partial J^*}{\\partial\\theta_i}=\\frac{\\partial J}{\\partial\\theta_i}+\\frac{\\lambda}{m}sgn(\\theta_i)$$$sgn(\\theta_i)$为符号函数"
   ]
  },
  {
   "cell_type": "markdown",
   "metadata": {},
   "source": [
    "则$$\\theta_i=\\theta_i-\\alpha\\frac{\\partial J}{\\partial\\theta_i}-\\alpha\\frac{\\lambda}{m}sgn(\\theta_i)$$"
   ]
  },
  {
   "cell_type": "markdown",
   "metadata": {},
   "source": [
    "与原梯度下降相比，多了$-\\frac{\\lambda}{m}sgn(\\theta_i)$这一项。当$\\theta_i$为负，该项为正，当$\\theta_i$为正时，该项为负，使$\\theta_i$向0靠近，进而降低模型复杂度。"
   ]
  },
  {
   "cell_type": "markdown",
   "metadata": {},
   "source": [
    "当$\\theta_i$为0时，我们可以通过定义sgn函数，使sgn(0)=0，将其回归至常规代价函数"
   ]
  },
  {
   "cell_type": "markdown",
   "metadata": {},
   "source": [
    "###### ② L2正则化"
   ]
  },
  {
   "cell_type": "markdown",
   "metadata": {},
   "source": [
    "在原始代价函数后加入 L2 范数惩罚项，即 $$\\frac{\\lambda}{2m}\\sum_{i=1}^m\\theta{_i}^2$$"
   ]
  },
  {
   "cell_type": "markdown",
   "metadata": {},
   "source": [
    "同理对于$\\theta_0$，求偏导后不变"
   ]
  },
  {
   "cell_type": "markdown",
   "metadata": {},
   "source": [
    "对于系数 $\\theta_1--\\theta_m$,$$\\frac{\\partial J^*}{\\partial\\theta_i}=\\frac{\\partial J}{\\partial\\theta_i}+\\frac{\\lambda}{m}\\theta_i$$"
   ]
  },
  {
   "cell_type": "markdown",
   "metadata": {},
   "source": [
    "更新参数为：$$\\theta_i=\\theta_i-\\alpha\\frac{\\partial J}{\\partial\\theta_i}-\\alpha\\frac{\\lambda}{m}\\theta_i$$\n",
    "\n",
    "$$=>\\quad\\theta_i=(1-\\alpha\\frac{\\lambda}{m})\\theta_i-\\alpha\\frac{\\partial J}{\\partial\\theta_i}$$"
   ]
  },
  {
   "cell_type": "markdown",
   "metadata": {},
   "source": [
    "L2 正则化也是通过尽量减小系数来降低系统复杂度。"
   ]
  }
 ],
 "metadata": {
  "kernelspec": {
   "display_name": "Python 3",
   "language": "python",
   "name": "python3"
  },
  "language_info": {
   "codemirror_mode": {
    "name": "ipython",
    "version": 3
   },
   "file_extension": ".py",
   "mimetype": "text/x-python",
   "name": "python",
   "nbconvert_exporter": "python",
   "pygments_lexer": "ipython3",
   "version": "3.6.0"
  }
 },
 "nbformat": 4,
 "nbformat_minor": 2
}
