{
 "cells": [
  {
   "cell_type": "markdown",
   "metadata": {},
   "source": [
    "## 归一化normalization"
   ]
  },
  {
   "cell_type": "markdown",
   "metadata": {},
   "source": [
    "特征值归一化可以提升梯度下降的速度，同时有可能提升线性回归的精度。"
   ]
  },
  {
   "cell_type": "markdown",
   "metadata": {},
   "source": [
    "### 线性归一化"
   ]
  },
  {
   "cell_type": "markdown",
   "metadata": {},
   "source": [
    "#### x'=(x-x_min) / (x_max-x_min)\n",
    "将x'限定在[0,1]区间，对原始数据进行等比例缩放。\n",
    "在不涉及距离度量、协方差计算、数据不符合正太分布的时候，可以使用。"
   ]
  },
  {
   "cell_type": "markdown",
   "metadata": {},
   "source": [
    "### 0均值归一化"
   ]
  },
  {
   "cell_type": "markdown",
   "metadata": {},
   "source": [
    "#### x'=(x-μ)/σ\n",
    "可以消除数据量纲的影响\n",
    "主要是当特征值符合或接近于正态分布时，可将特征值转化至标准正态分布，效果比较明显。\n",
    "在分类、聚类算法中，需要使用距离来度量相似性的时候、或者使用PCA技术进行降维的时候，效果较好"
   ]
  },
  {
   "cell_type": "markdown",
   "metadata": {},
   "source": [
    "### 非线性归一化"
   ]
  },
  {
   "cell_type": "markdown",
   "metadata": {},
   "source": [
    "应用于特征分布跨度很大，采用非线性归一化。通过一些函数，将原始值进行映射。一般采用log、指数函数、正切等函数。\n",
    "如果特征的跨度过大，则较小的数据将接近于0，较大数据接近于1。"
   ]
  },
  {
   "cell_type": "markdown",
   "metadata": {},
   "source": [
    "#### 对数转换\n",
    "　　y=log10 (x)\n",
    "  或\n",
    "  \n",
    "  　y=log10 (x)/log10(max)"
   ]
  },
  {
   "cell_type": "markdown",
   "metadata": {},
   "source": [
    "#### 正切转换\n",
    "y=arctan(x)*2/PI\n",
    "将特征值转换至(-1,1)"
   ]
  }
 ],
 "metadata": {
  "kernelspec": {
   "display_name": "Python 3",
   "language": "python",
   "name": "python3"
  },
  "language_info": {
   "codemirror_mode": {
    "name": "ipython",
    "version": 3
   },
   "file_extension": ".py",
   "mimetype": "text/x-python",
   "name": "python",
   "nbconvert_exporter": "python",
   "pygments_lexer": "ipython3",
   "version": "3.6.0"
  }
 },
 "nbformat": 4,
 "nbformat_minor": 2
}
