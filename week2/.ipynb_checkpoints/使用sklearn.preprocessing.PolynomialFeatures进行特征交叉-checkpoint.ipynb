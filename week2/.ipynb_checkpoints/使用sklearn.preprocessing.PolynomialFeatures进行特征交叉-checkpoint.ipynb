{
 "cells": [
  {
   "cell_type": "markdown",
   "metadata": {},
   "source": [
    "### 使用sklearn.preprocessing.PolynomialFeatures进行特征交叉"
   ]
  },
  {
   "cell_type": "code",
   "execution_count": 49,
   "metadata": {},
   "outputs": [
    {
     "name": "stdout",
     "output_type": "stream",
     "text": [
      "[[  1.   0.   1.   0.   0.   1.   0.   0.   0.   1.]\n",
      " [  1.   2.   3.   4.   6.   9.   8.  12.  18.  27.]\n",
      " [  1.   4.   5.  16.  20.  25.  64.  80. 100. 125.]\n",
      " [  1.   6.   7.  36.  42.  49. 216. 252. 294. 343.]]\n",
      "[[ 1.  0.  1.  0.]\n",
      " [ 1.  2.  3.  6.]\n",
      " [ 1.  4.  5. 20.]\n",
      " [ 1.  6.  7. 42.]]\n",
      "[[  0.   1.   0.   0.   1.   0.   0.   0.   1.]\n",
      " [  2.   3.   4.   6.   9.   8.  12.  18.  27.]\n",
      " [  4.   5.  16.  20.  25.  64.  80. 100. 125.]\n",
      " [  6.   7.  36.  42.  49. 216. 252. 294. 343.]]\n"
     ]
    }
   ],
   "source": [
    "from sklearn.preprocessing import PolynomialFeatures\n",
    "import numpy as np\n",
    "f=np.arange(8).reshape(4,2)\n",
    "poly1=PolynomialFeatures(degree=3)\n",
    "poly2=PolynomialFeatures(degree=3,interaction_only=True)\n",
    "poly3=PolynomialFeatures(degree=3,include_bias=False)\n",
    "poly=[poly1,poly2,poly3]\n",
    "for p in poly:\n",
    "    print(p.fit_transform(f))\n",
    "\n"
   ]
  },
  {
   "cell_type": "markdown",
   "metadata": {},
   "source": [
    "### 使用skleran实现onehot编码"
   ]
  },
  {
   "cell_type": "code",
   "execution_count": 19,
   "metadata": {
    "scrolled": true
   },
   "outputs": [
    {
     "name": "stderr",
     "output_type": "stream",
     "text": [
      "c:\\users\\administrator\\appdata\\local\\programs\\python\\python36\\lib\\site-packages\\sklearn\\preprocessing\\_encoders.py:368: FutureWarning: The handling of integer data will change in version 0.22. Currently, the categories are determined based on the range [0, max(values)], while in the future they will be determined based on the unique values.\n",
      "If you want the future behaviour and silence this warning, you can specify \"categories='auto'\".\n",
      "In case you used a LabelEncoder before this OneHotEncoder to convert the categories to integers, then you can now use the OneHotEncoder directly.\n",
      "  warnings.warn(msg, FutureWarning)\n"
     ]
    }
   ],
   "source": [
    "from sklearn import preprocessing  \n",
    "import numpy as np\n",
    "      \n",
    "enc = preprocessing.OneHotEncoder()  # 创建对象\n",
    "enc.fit([[0,0,3],[1,1,0],[0,2,1],[1,0,2]])   # 拟合\n",
    "array = enc.transform([[1,1,3]]).toarray()  # 转化\n",
    "\n"
   ]
  },
  {
   "cell_type": "markdown",
   "metadata": {},
   "source": [
    "### if-idf"
   ]
  },
  {
   "cell_type": "code",
   "execution_count": 27,
   "metadata": {},
   "outputs": [
    {
     "name": "stdout",
     "output_type": "stream",
     "text": [
      "  (0, 1)\t1\n",
      "  (0, 2)\t1\n",
      "  (0, 6)\t1\n",
      "  (1, 0)\t1\n",
      "  (1, 3)\t1\n",
      "  (1, 4)\t1\n",
      "  (2, 1)\t1\n",
      "  (2, 3)\t1\n",
      "  (2, 5)\t1\n",
      "['叛逆', '吃货', '唱歌', '少年', '游戏', '足球', '青年']\n",
      "{'青年': 6, '吃货': 1, '唱歌': 2, '少年': 3, '游戏': 4, '叛逆': 0, '足球': 5}\n",
      "[[0.         0.4736296  0.62276601 0.         0.         0.\n",
      "  0.62276601]\n",
      " [0.62276601 0.         0.         0.4736296  0.62276601 0.\n",
      "  0.        ]\n",
      " [0.         0.51785612 0.         0.51785612 0.         0.68091856\n",
      "  0.        ]]\n"
     ]
    }
   ],
   "source": [
    "from sklearn.feature_extraction.text import CountVectorizer  \n",
    "from sklearn.feature_extraction.text import TfidfTransformer\n",
    "\n",
    "tag_list = ['青年 吃货 唱歌',  \n",
    "            '少年 游戏 叛逆',  \n",
    "            '少年 吃货 足球'] \n",
    "\n",
    "vectorizer = CountVectorizer() #将文本中的词语转换为词频矩阵  \n",
    "X = vectorizer.fit_transform(tag_list) #计算个词语出现的次数\n",
    "\"\"\"\n",
    "word_dict = vectorizer.vocabulary_\n",
    "{'唱歌': 2, '吃货': 1, '青年': 6, '足球': 5, '叛逆': 0, '少年': 3, '游戏': 4}\n",
    "\"\"\"\n",
    "\n",
    "transformer = TfidfTransformer()  \n",
    "tfidf = transformer.fit_transform(X)  #将词频矩阵X统计成TF-IDF值  \n",
    "print(X)\n",
    "# print(tfidf.toarray())\n",
    "print(vectorizer.get_feature_names())\n",
    "print(vectorizer.vocabulary_)\n",
    "print(tfidf.toarray())\n"
   ]
  }
 ],
 "metadata": {
  "kernelspec": {
   "display_name": "Python 3",
   "language": "python",
   "name": "python3"
  },
  "language_info": {
   "codemirror_mode": {
    "name": "ipython",
    "version": 3
   },
   "file_extension": ".py",
   "mimetype": "text/x-python",
   "name": "python",
   "nbconvert_exporter": "python",
   "pygments_lexer": "ipython3",
   "version": "3.6.0"
  }
 },
 "nbformat": 4,
 "nbformat_minor": 2
}
