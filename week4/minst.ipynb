{
 "cells": [
  {
   "cell_type": "code",
   "execution_count": 29,
   "metadata": {},
   "outputs": [],
   "source": [
    "import numpy as np\n",
    "from keras.datasets import mnist\n",
    "from keras.models import Sequential\n",
    "from keras.utils import np_utils\n",
    "from keras.models import Sequential\n",
    "from keras.layers import Dense"
   ]
  },
  {
   "cell_type": "code",
   "execution_count": 30,
   "metadata": {},
   "outputs": [],
   "source": [
    "(X_train,Y_train),(X_test,Y_test)=mnist.load_data()\n",
    "X_train=X_train.reshape(X_train.shape[0],-1)/255\n",
    "X_test=X_test.reshape(X_test.shape[0],-1)/255\n",
    "Y_train=np_utils.to_categorical(Y_train,num_classes=10)\n",
    "Y_test=np_utils.to_categorical(Y_test,num_classes=10)"
   ]
  },
  {
   "cell_type": "code",
   "execution_count": 31,
   "metadata": {},
   "outputs": [],
   "source": [
    "model=Sequential()\n",
    "model.add(Dense(32,input_dim=784,activation='relu'))\n",
    "model.add(Dense(10,activation='softmax'))"
   ]
  },
  {
   "cell_type": "code",
   "execution_count": 32,
   "metadata": {},
   "outputs": [
    {
     "name": "stdout",
     "output_type": "stream",
     "text": [
      "Epoch 1/2\n",
      "60000/60000 [==============================] - 4s 75us/step - loss: 0.3546 - acc: 0.9016\n",
      "Epoch 2/2\n",
      "60000/60000 [==============================] - 4s 74us/step - loss: 0.2115 - acc: 0.9401\n",
      "(10000, 10)\n",
      "10000/10000 [==============================] - 0s 39us/step\n",
      "loss 0.19088009835481642\n",
      "accuracy 0.9461\n"
     ]
    }
   ],
   "source": [
    "model.compile(optimizer='RMSprop',loss='categorical_crossentropy',metrics=['accuracy'])\n",
    "model.fit(epochs=2,batch_size=32,verbose=1,x=X_train,y=Y_train)\n",
    "print(Y_test.shape)\n",
    "loss,accuracy=model.evaluate(X_test,Y_test)\n",
    "print('loss',loss)\n",
    "print('accuracy',accuracy)"
   ]
  }
 ],
 "metadata": {
  "kernelspec": {
   "display_name": "Python 3",
   "language": "python",
   "name": "python3"
  },
  "language_info": {
   "codemirror_mode": {
    "name": "ipython",
    "version": 3
   },
   "file_extension": ".py",
   "mimetype": "text/x-python",
   "name": "python",
   "nbconvert_exporter": "python",
   "pygments_lexer": "ipython3",
   "version": "3.6.0"
  }
 },
 "nbformat": 4,
 "nbformat_minor": 2
}
