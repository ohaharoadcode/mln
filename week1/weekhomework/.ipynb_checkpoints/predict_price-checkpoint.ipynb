{
 "cells": [
  {
   "cell_type": "code",
   "execution_count": 1,
   "metadata": {},
   "outputs": [],
   "source": [
    "import pandas as pd \n",
    "import numpy as np\n",
    "import sklearn.linear_model as sk_linear\n",
    "from sklearn.model_selection import GridSearchCV, cross_val_score"
   ]
  },
  {
   "cell_type": "code",
   "execution_count": 2,
   "metadata": {},
   "outputs": [],
   "source": [
    "train_data=pd.read_csv('train.csv')\n",
    "test_data=pd.read_csv('test.csv')\n",
    "train_y=train_data.pop('SalePrice')\n",
    "del train_data['Id']\n",
    "test_id=test_data.pop('Id')"
   ]
  },
  {
   "cell_type": "code",
   "execution_count": 3,
   "metadata": {},
   "outputs": [],
   "source": [
    "#统计每列的nan数量和百分比\n",
    "total_miss=train_data.isnull().sum()   #每列nan数量\n",
    "mis_persent=(total_miss/train_data.isnull().count())  #每列nan百分比\n",
    "miss_data=pd.DataFrame({\n",
    "    'total_miss':total_miss,\n",
    "    'mis_persent':mis_persent\n",
    "}).sort_values(by='mis_persent',ascending=False)    #组成一个新dataframe\n",
    "\n",
    "\n",
    "\n",
    "#将object类型的数据匹配为数字，nan值匹配为0\n",
    "ind=(train_data.dtypes == 'object')\n",
    "train_object=train_data.T[ind].T  #获取dtype为object的数据组\n",
    "train_object.fillna('missing',inplace=True)  #将nan用missing填充\n",
    "object_columns=train_object.columns\n",
    "#使用map方法，对object值进行数字化，其中missing为0\n",
    "all_mapping={}\n",
    "for col in object_columns:\n",
    "    unique_values=train_object[col].unique()\n",
    "    \n",
    "    mapping={}\n",
    "    mapping['missing'] = 0\n",
    "    if 'missing' in unique_values:\n",
    "        unique_values = unique_values[np.where(unique_values!='missing')]\n",
    "    for i,values in enumerate(unique_values,start=1):\n",
    "        mapping[values] = i\n",
    "    all_mapping[col]=mapping\n",
    "    train_object[col]=train_object[col].map(mapping)\n",
    "        \n",
    "# 将转换后的值赋给train_data\n",
    "train_data[train_object.columns]=train_object\n",
    "\n",
    "#对于原本就是数值型的列，缺省值用平均数填充。\n",
    "train_data.fillna(train_data.mean(),inplace=True)\n"
   ]
  },
  {
   "cell_type": "code",
   "execution_count": 4,
   "metadata": {},
   "outputs": [],
   "source": [
    "#对需预测输入值的处理，缺省值补全\n",
    "def data_preprocess(test_data,object_columns,all_mapping,data_mean):\n",
    "    test_data[object_columns].fillna('missing',inplace=True)\n",
    "    for col in object_columns:\n",
    "        test_data[col]=test_data[col].map(all_mapping[col])\n",
    "    test_data.fillna(data_mean,inplace=True)\n",
    "    \n",
    "    return test_data\n"
   ]
  },
  {
   "cell_type": "code",
   "execution_count": 7,
   "metadata": {},
   "outputs": [
    {
     "name": "stderr",
     "output_type": "stream",
     "text": [
      "c:\\users\\administrator\\appdata\\local\\programs\\python\\python36\\lib\\site-packages\\pandas\\core\\frame.py:3790: SettingWithCopyWarning: \n",
      "A value is trying to be set on a copy of a slice from a DataFrame\n",
      "\n",
      "See the caveats in the documentation: http://pandas.pydata.org/pandas-docs/stable/indexing.html#indexing-view-versus-copy\n",
      "  downcast=downcast, **kwargs)\n"
     ]
    }
   ],
   "source": [
    "model = sk_linear.LinearRegression(fit_intercept=True,normalize=False,copy_X=True)\n",
    "model.fit(train_data,train_y)\n",
    "test_x=data_preprocess(test_data,object_columns,all_mapping,train_data.mean())\n",
    "# print(test_x.dtypes)\n",
    "y_predict=model.predict(test_x)\n",
    "y=pd.DataFrame({\n",
    "    'Id':test_id,\n",
    "    'y_predict':y_predict\n",
    "})\n",
    "y.to_csv('predict.csv',index=False)"
   ]
  },
  {
   "cell_type": "code",
   "execution_count": null,
   "metadata": {},
   "outputs": [],
   "source": []
  }
 ],
 "metadata": {
  "kernelspec": {
   "display_name": "Python 3",
   "language": "python",
   "name": "python3"
  },
  "language_info": {
   "codemirror_mode": {
    "name": "ipython",
    "version": 3
   },
   "file_extension": ".py",
   "mimetype": "text/x-python",
   "name": "python",
   "nbconvert_exporter": "python",
   "pygments_lexer": "ipython3",
   "version": "3.6.0"
  }
 },
 "nbformat": 4,
 "nbformat_minor": 2
}
